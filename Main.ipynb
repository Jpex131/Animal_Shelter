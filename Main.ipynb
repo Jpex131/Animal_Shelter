{
 "cells": [
  {
   "cell_type": "code",
   "execution_count": 1,
   "id": "8dde70f6-c547-4231-901c-b99c9217072f",
   "metadata": {},
   "outputs": [],
   "source": [
    "from AnimalShelter import AnimalShelter\n",
    "from bson.objectid import ObjectId"
   ]
  },
  {
   "cell_type": "code",
   "execution_count": 2,
   "id": "ac5810c2-995d-455f-8005-2dc6507bf780",
   "metadata": {},
   "outputs": [
    {
     "name": "stdout",
     "output_type": "stream",
     "text": [
      "Connected to MongoDB successfully.\n"
     ]
    }
   ],
   "source": [
    "animals = AnimalShelter('aacuser', 'Leopard_1002')\n",
    "animals.check_connection()"
   ]
  },
  {
   "cell_type": "code",
   "execution_count": 3,
   "id": "3b54b370-8580-4528-846c-7a09addce1fd",
   "metadata": {},
   "outputs": [
    {
     "name": "stdout",
     "output_type": "stream",
     "text": [
      "Document inserted successfully.\n",
      "True\n"
     ]
    }
   ],
   "source": [
    "#Test the CREATE method by inserting a document into the MongoDB database\n",
    "#Valid document create\n",
    "print(animals.create({\n",
    "  \"age_upon_outcome\": \"69 years\",\n",
    "  \"animal_id\": \"B654321\",\n",
    "  \"animal_type\": \"Dog\",\n",
    "  \"breed\": \"German Shepherd\",\n",
    "  \"color\": \"Brown\",\n",
    "  \"date_of_birth\": \"2024-04-20\",\n",
    "  \"datetime\": \"2024-04-20T00:00:00\",\n",
    "  \"monthyear\": \"2024-04-20T00:00:00\",\n",
    "  \"name\": \"Adolf\",\n",
    "  \"outcome_subtype\": \"\",\n",
    "  \"outcome_type\": \"Adoption\",\n",
    "  \"sex_upon_outcome\": \"Neutered Male\",\n",
    "  \"location_lat\": 0.0,\n",
    "  \"location_long\": 0.0,\n",
    "  \"age_upon_outcome_in_weeks\": 0.0\n",
    "}))"
   ]
  },
  {
   "cell_type": "code",
   "execution_count": 3,
   "id": "73e23cb7-b09a-47e5-a25d-ab444acbebe6",
   "metadata": {},
   "outputs": [
    {
     "name": "stdout",
     "output_type": "stream",
     "text": [
      "Error inserting document: documents must have only string keys, key was 0\n",
      "False\n"
     ]
    }
   ],
   "source": [
    "#Invalid Document Create\n",
    "print(animals.create({ 0:0 }))"
   ]
  },
  {
   "cell_type": "code",
   "execution_count": 4,
   "id": "60927663-a0ba-4072-9fa2-96da53b9c987",
   "metadata": {},
   "outputs": [
    {
     "name": "stdout",
     "output_type": "stream",
     "text": [
      "{'_id': ObjectId('662ea774972ef42ab7b173c6'), 'age_upon_outcome': '69 years', 'animal_id': 'B654321', 'animal_type': 'Dog', 'breed': 'German Shepherd', 'color': 'Brown', 'date_of_birth': '2024-04-20', 'datetime': '2024-04-20T00:00:00', 'monthyear': '2024-04-20T00:00:00', 'name': 'Adolf', 'outcome_subtype': '', 'outcome_type': 'Adoption', 'sex_upon_outcome': 'Neutered Male', 'location_lat': 0.0, 'location_long': 0.0, 'age_upon_outcome_in_weeks': 0.0}\n"
     ]
    }
   ],
   "source": [
    "#Valid Query\n",
    "query = animals.read({\"name\":\"Adolf\"})"
   ]
  },
  {
   "cell_type": "code",
   "execution_count": 5,
   "id": "479b8999-8735-426a-947c-90b1629fe1dc",
   "metadata": {},
   "outputs": [
    {
     "name": "stdout",
     "output_type": "stream",
     "text": [
      "Error executing query: documents must have only string keys, key was 0\n"
     ]
    },
    {
     "ename": "TypeError",
     "evalue": "'NoneType' object is not iterable",
     "output_type": "error",
     "traceback": [
      "\u001b[1;31m---------------------------------------------------------------------------\u001b[0m",
      "\u001b[1;31mTypeError\u001b[0m                                 Traceback (most recent call last)",
      "Cell \u001b[1;32mIn[5], line 2\u001b[0m\n\u001b[0;32m      1\u001b[0m \u001b[38;5;66;03m#Invalid Query\u001b[39;00m\n\u001b[1;32m----> 2\u001b[0m \u001b[38;5;28;43mlist\u001b[39;49m\u001b[43m(\u001b[49m\u001b[43manimals\u001b[49m\u001b[38;5;241;43m.\u001b[39;49m\u001b[43mread\u001b[49m\u001b[43m(\u001b[49m\u001b[43m{\u001b[49m\u001b[38;5;241;43m0\u001b[39;49m\u001b[43m:\u001b[49m\u001b[38;5;241;43m0\u001b[39;49m\u001b[43m}\u001b[49m\u001b[43m)\u001b[49m\u001b[43m)\u001b[49m\n",
      "\u001b[1;31mTypeError\u001b[0m: 'NoneType' object is not iterable"
     ]
    }
   ],
   "source": [
    "#Invalid Query\n",
    "list(animals.read({0:0}))"
   ]
  },
  {
   "cell_type": "code",
   "execution_count": 6,
   "id": "408045b7-d551-4c51-9247-02a9db059317",
   "metadata": {},
   "outputs": [
    {
     "name": "stdout",
     "output_type": "stream",
     "text": [
      "{'status': 'success', ' matched_count': 1, 'modified_count': 1}\n"
     ]
    }
   ],
   "source": [
    "#Valid documentation update\n",
    "updateAnimal = animals.update({\"name\": \"Adolf\"}, {\"outcome_type\": \"Adopted\"})\n",
    "print(updateAnimal)"
   ]
  },
  {
   "cell_type": "code",
   "execution_count": 7,
   "id": "e1053f39-6cdd-433b-99f2-35bbf6c10c96",
   "metadata": {},
   "outputs": [
    {
     "ename": "TypeError",
     "evalue": "AnimalShelter.update() missing 1 required positional argument: 'updateData'",
     "output_type": "error",
     "traceback": [
      "\u001b[1;31m---------------------------------------------------------------------------\u001b[0m",
      "\u001b[1;31mTypeError\u001b[0m                                 Traceback (most recent call last)",
      "Cell \u001b[1;32mIn[7], line 2\u001b[0m\n\u001b[0;32m      1\u001b[0m \u001b[38;5;66;03m#Invalid Documentation Update\u001b[39;00m\n\u001b[1;32m----> 2\u001b[0m \u001b[38;5;28mprint\u001b[39m(\u001b[43manimals\u001b[49m\u001b[38;5;241;43m.\u001b[39;49m\u001b[43mupdate\u001b[49m\u001b[43m(\u001b[49m\u001b[43m{\u001b[49m\u001b[38;5;241;43m0\u001b[39;49m\u001b[43m:\u001b[49m\u001b[38;5;241;43m0\u001b[39;49m\u001b[43m}\u001b[49m\u001b[43m)\u001b[49m)\n",
      "\u001b[1;31mTypeError\u001b[0m: AnimalShelter.update() missing 1 required positional argument: 'updateData'"
     ]
    }
   ],
   "source": [
    "#Invalid Documentation Update\n",
    "print(animals.update({0:0}))"
   ]
  },
  {
   "cell_type": "code",
   "execution_count": 8,
   "id": "1b909720-28ec-4763-91eb-36a115e53fd9",
   "metadata": {},
   "outputs": [
    {
     "name": "stdout",
     "output_type": "stream",
     "text": [
      "{'status': 'success', 'deleted_count': 4}\n"
     ]
    }
   ],
   "source": [
    "#Valid document delete\n",
    "deleteAnimal = animals.delete({\"name\":\"Binx\"})\n",
    "print(deleteAnimal)"
   ]
  },
  {
   "cell_type": "code",
   "execution_count": 9,
   "id": "89bd148a-d70e-4ce5-a60d-63db780c14ec",
   "metadata": {},
   "outputs": [
    {
     "ename": "SyntaxError",
     "evalue": "invalid syntax. Perhaps you forgot a comma? (3311404277.py, line 2)",
     "output_type": "error",
     "traceback": [
      "\u001b[1;36m  Cell \u001b[1;32mIn[9], line 2\u001b[1;36m\u001b[0m\n\u001b[1;33m    print(animals.delete{0:0})\u001b[0m\n\u001b[1;37m          ^\u001b[0m\n\u001b[1;31mSyntaxError\u001b[0m\u001b[1;31m:\u001b[0m invalid syntax. Perhaps you forgot a comma?\n"
     ]
    }
   ],
   "source": [
    "#Invalid document Delete\n",
    "print(animals.delete{0:0})"
   ]
  },
  {
   "cell_type": "code",
   "execution_count": null,
   "id": "cb5551ab-f205-4575-a5a9-249674cc906f",
   "metadata": {},
   "outputs": [],
   "source": []
  }
 ],
 "metadata": {
  "kernelspec": {
   "display_name": "Python 3 (ipykernel)",
   "language": "python",
   "name": "python3"
  },
  "language_info": {
   "codemirror_mode": {
    "name": "ipython",
    "version": 3
   },
   "file_extension": ".py",
   "mimetype": "text/x-python",
   "name": "python",
   "nbconvert_exporter": "python",
   "pygments_lexer": "ipython3",
   "version": "3.12.3"
  }
 },
 "nbformat": 4,
 "nbformat_minor": 5
}
