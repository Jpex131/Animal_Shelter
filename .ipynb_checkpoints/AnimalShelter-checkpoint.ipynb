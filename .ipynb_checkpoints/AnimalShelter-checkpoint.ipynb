{
 "cells": [
  {
   "cell_type": "code",
   "execution_count": 1,
   "id": "53683db4-0a60-4446-8e65-2307e4c1f6c2",
   "metadata": {},
   "outputs": [],
   "source": [
    "import os\n",
    "from pymongo import MongoClient\n",
    "from bson.objectid import ObjectId"
   ]
  },
  {
   "cell_type": "code",
   "execution_count": 2,
   "id": "ba9529d8-5348-4faa-b681-4a63a65ac4f2",
   "metadata": {},
   "outputs": [
    {
     "name": "stdout",
     "output_type": "stream",
     "text": [
      "Connected to MongoDB successfully.\n"
     ]
    }
   ],
   "source": [
    "class AnimalShelter(object):\n",
    "    # CRUD operations for Animal collection in MongoDB\n",
    "\n",
    "    def __init__(self):\n",
    "        \"Initialize the MongoClient. This helps to access the MongoDB databses and collections\"\n",
    "        username = os.environ.get('MONGODB_USERNAME')\n",
    "        password = os.environ.get('MONGODB_PASSWORD')\n",
    "        if username is None or password is None:\n",
    "            raise ValueError(\"MongoDB username or password is not set in enviroment variables.\")\n",
    "            \n",
    "        self.client = MongoClient('mongodb://%s:%s@localhost:27017' % (username, password))\n",
    "        self.database = self.client['AAC']\n",
    "\n",
    "    # Method to check the connection\n",
    "    def check_connection(self):\n",
    "        try:\n",
    "            # Try to execute a simple query to verify the connection\n",
    "            result = self.database.command(\"ping\")\n",
    "            print(\"Connected to MongoDB successfully.\")\n",
    "        except Exception as e:\n",
    "            print(\"Connection to MongoDB failed:\", e)\n",
    "        \n",
    "        \n",
    "    # CREATE Method\n",
    "    def create(self, data):\n",
    "        if isinstance(data, dict) and data:\n",
    "            try:\n",
    "                self.database.animals.insert_one(data)\n",
    "                print(\"Document inserted successfully.\")\n",
    "                return True\n",
    "            except Exception as e:\n",
    "                print(f\"Error inserting document: {e}\")\n",
    "                return False\n",
    "        else:\n",
    "            print(\"Error: Data parameter must be a non-empty dictionary.\")\n",
    "            return False\n",
    "\n",
    "    #READ Method\n",
    "    def read(self, query):\n",
    "        try:\n",
    "            cursor = self.database.animals.find(query)\n",
    "            return cursor\n",
    "        except Exception as e:\n",
    "            print(f\"Error executing query: {e}\")\n",
    "            return None\n",
    "\n",
    "# Create an instance of the AnimalShelter class\n",
    "animal_shelter = AnimalShelter()\n",
    "\n",
    "# Call the check_connection method\n",
    "animal_shelter.check_connection()"
   ]
  },
  {
   "cell_type": "code",
   "execution_count": null,
   "id": "43b95b34-ef2a-41a2-bb2b-ecd3de633b8e",
   "metadata": {},
   "outputs": [],
   "source": []
  }
 ],
 "metadata": {
  "kernelspec": {
   "display_name": "Python 3 (ipykernel)",
   "language": "python",
   "name": "python3"
  },
  "language_info": {
   "codemirror_mode": {
    "name": "ipython",
    "version": 3
   },
   "file_extension": ".py",
   "mimetype": "text/x-python",
   "name": "python",
   "nbconvert_exporter": "python",
   "pygments_lexer": "ipython3",
   "version": "3.12.3"
  }
 },
 "nbformat": 4,
 "nbformat_minor": 5
}
